{
 "cells": [
  {
   "cell_type": "markdown",
   "metadata": {
    "collapsed": true
   },
   "source": [
    "## Machine Translation Project\n",
    "\n",
    "### Introduction\n",
    "In this notebook, you will build a deep neural network that functions as part of an end-to-end machine translation pipeline. Your completed pipeline will accept English text as input and return the French translation.\n",
    "\n",
    "- **Preprocess** - You'll convert text to sequence of integers.\n",
    "- **Models** Create models which accepts a sequence of integers as input and returns a probability distribution over possible translations. After learning about the basic types of neural networks that are often used for machine translation, you will engage in your own investigations, to design your own model!\n",
    "- **Prediction** Run the model on English text."
   ]
  },
  {
   "cell_type": "code",
   "execution_count": 1,
   "metadata": {},
   "outputs": [],
   "source": [
    "%load_ext autoreload\n",
    "%aimport helper, tests\n",
    "%autoreload 1"
   ]
  },
  {
   "cell_type": "code",
   "execution_count": 2,
   "metadata": {},
   "outputs": [
    {
     "name": "stderr",
     "output_type": "stream",
     "text": [
      "Using TensorFlow backend.\n"
     ]
    }
   ],
   "source": [
    "import collections\n",
    "\n",
    "import helper\n",
    "import numpy as np\n",
    "import project_tests as tests\n",
    "\n",
    "from keras.preprocessing.text import Tokenizer\n",
    "from keras.preprocessing.sequence import pad_sequences\n",
    "from keras.models import Model\n",
    "from keras.layers import GRU, Input, Dense, TimeDistributed, Activation, RepeatVector, Bidirectional\n",
    "from keras.layers.embeddings import Embedding\n",
    "from keras.optimizers import Adam\n",
    "from keras.losses import sparse_categorical_crossentropy"
   ]
  },
  {
   "cell_type": "code",
   "execution_count": 3,
   "metadata": {},
   "outputs": [
    {
     "name": "stdout",
     "output_type": "stream",
     "text": [
      "[name: \"/cpu:0\"\n",
      "device_type: \"CPU\"\n",
      "memory_limit: 268435456\n",
      "locality {\n",
      "}\n",
      "incarnation: 5228285084242335435\n",
      ", name: \"/gpu:0\"\n",
      "device_type: \"GPU\"\n",
      "memory_limit: 357433344\n",
      "locality {\n",
      "  bus_id: 1\n",
      "}\n",
      "incarnation: 2509913030963336617\n",
      "physical_device_desc: \"device: 0, name: Tesla K80, pci bus id: 0000:00:04.0\"\n",
      "]\n"
     ]
    }
   ],
   "source": [
    "from tensorflow.python.client import device_lib\n",
    "print(device_lib.list_local_devices())"
   ]
  },
  {
   "cell_type": "markdown",
   "metadata": {},
   "source": [
    "## Dataset\n",
    "We begin by investigating the dataset that will be used to train and evaluate your pipeline.  The most common datasets used for machine translation are from [WMT](http://www.statmt.org/).  However, that will take a long time to train a neural network on.  We'll be using a dataset we created for this project that contains a small vocabulary.  You'll be able to train your model in a reasonable time with this dataset.\n",
    "### Load Data\n",
    "The data is located in `data/small_vocab_en` and `data/small_vocab_fr`. The `small_vocab_en` file contains English sentences with their French translations in the `small_vocab_fr` file. Load the English and French data from these files from running the cell below."
   ]
  },
  {
   "cell_type": "code",
   "execution_count": 4,
   "metadata": {},
   "outputs": [
    {
     "name": "stdout",
     "output_type": "stream",
     "text": [
      "Dataset Loaded\n"
     ]
    }
   ],
   "source": [
    "# Load English data\n",
    "english_sentences = helper.load_data('data/small_vocab_en')\n",
    "# Load French data\n",
    "french_sentences = helper.load_data('data/small_vocab_fr')\n",
    "\n",
    "print('Dataset Loaded')"
   ]
  },
  {
   "cell_type": "markdown",
   "metadata": {},
   "source": [
    "### Files\n",
    "Each line in `small_vocab_en` contains an English sentence with the respective translation in each line of `small_vocab_fr`.  View the first two lines from each file."
   ]
  },
  {
   "cell_type": "code",
   "execution_count": 5,
   "metadata": {},
   "outputs": [
    {
     "name": "stdout",
     "output_type": "stream",
     "text": [
      "small_vocab_en Line 1:  new jersey is sometimes quiet during autumn , and it is snowy in april .\n",
      "small_vocab_fr Line 1:  new jersey est parfois calme pendant l' automne , et il est neigeux en avril .\n",
      "small_vocab_en Line 2:  the united states is usually chilly during july , and it is usually freezing in november .\n",
      "small_vocab_fr Line 2:  les états-unis est généralement froid en juillet , et il gèle habituellement en novembre .\n"
     ]
    }
   ],
   "source": [
    "for sample_i in range(2):\n",
    "    print('small_vocab_en Line {}:  {}'.format(sample_i + 1, english_sentences[sample_i]))\n",
    "    print('small_vocab_fr Line {}:  {}'.format(sample_i + 1, french_sentences[sample_i]))"
   ]
  },
  {
   "cell_type": "markdown",
   "metadata": {},
   "source": [
    "From looking at the sentences, you can see they have been preprocessed already.  The puncuations have been delimited using spaces. All the text have been converted to lowercase.  This should save you some time, but the text requires more preprocessing.\n",
    "### Vocabulary\n",
    "The complexity of the problem is determined by the complexity of the vocabulary.  A more complex vocabulary is a more complex problem.  Let's look at the complexity of the dataset we'll be working with."
   ]
  },
  {
   "cell_type": "code",
   "execution_count": 6,
   "metadata": {},
   "outputs": [
    {
     "name": "stdout",
     "output_type": "stream",
     "text": [
      "1823250 English words.\n",
      "227 unique English words.\n",
      "10 Most common words in the English dataset:\n",
      "\"is\" \",\" \".\" \"in\" \"it\" \"during\" \"the\" \"but\" \"and\" \"sometimes\"\n",
      "\n",
      "1961295 French words.\n",
      "355 unique French words.\n",
      "10 Most common words in the French dataset:\n",
      "\"est\" \".\" \",\" \"en\" \"il\" \"les\" \"mais\" \"et\" \"la\" \"parfois\"\n"
     ]
    }
   ],
   "source": [
    "english_words_counter = collections.Counter([word for sentence in english_sentences for word in sentence.split()])\n",
    "french_words_counter = collections.Counter([word for sentence in french_sentences for word in sentence.split()])\n",
    "\n",
    "print('{} English words.'.format(len([word for sentence in english_sentences for word in sentence.split()])))\n",
    "print('{} unique English words.'.format(len(english_words_counter)))\n",
    "print('10 Most common words in the English dataset:')\n",
    "print('\"' + '\" \"'.join(list(zip(*english_words_counter.most_common(10)))[0]) + '\"')\n",
    "print()\n",
    "print('{} French words.'.format(len([word for sentence in french_sentences for word in sentence.split()])))\n",
    "print('{} unique French words.'.format(len(french_words_counter)))\n",
    "print('10 Most common words in the French dataset:')\n",
    "print('\"' + '\" \"'.join(list(zip(*french_words_counter.most_common(10)))[0]) + '\"')"
   ]
  },
  {
   "cell_type": "markdown",
   "metadata": {},
   "source": [
    "For comparison, _Alice's Adventures in Wonderland_ contains 2,766 unique words of a total of 15,500 words.\n",
    "## Preprocess\n",
    "For this project, you won't use text data as input to your model. Instead, you'll convert the text into sequences of integers using the following preprocess methods:\n",
    "1. Tokenize the words into ids\n",
    "2. Add padding to make all the sequences the same length.\n",
    "\n",
    "Time to start preprocessing the data...\n",
    "### Tokenize (IMPLEMENTATION)\n",
    "For a neural network to predict on text data, it first has to be turned into data it can understand. Text data like \"dog\" is a sequence of ASCII character encodings.  Since a neural network is a series of multiplication and addition operations, the input data needs to be number(s).\n",
    "\n",
    "We can turn each character into a number or each word into a number.  These are called character and word ids, respectively.  Character ids are used for character level models that generate text predictions for each character.  A word level model uses word ids that generate text predictions for each word.  Word level models tend to learn better, since they are lower in complexity, so we'll use those.\n",
    "\n",
    "Turn each sentence into a sequence of words ids using Keras's [`Tokenizer`](https://keras.io/preprocessing/text/#tokenizer) function. Use this function to tokenize `english_sentences` and `french_sentences` in the cell below.\n",
    "\n",
    "Running the cell will run `tokenize` on sample data and show output for debugging."
   ]
  },
  {
   "cell_type": "code",
   "execution_count": 7,
   "metadata": {},
   "outputs": [
    {
     "name": "stdout",
     "output_type": "stream",
     "text": [
      "{'the': 1, 'quick': 2, 'a': 3, 'brown': 4, 'fox': 5, 'jumps': 6, 'over': 7, 'lazy': 8, 'dog': 9, 'by': 10, 'jove': 11, 'my': 12, 'study': 13, 'of': 14, 'lexicography': 15, 'won': 16, 'prize': 17, 'this': 18, 'is': 19, 'short': 20, 'sentence': 21}\n",
      "\n",
      "Sequence 1 in x\n",
      "  Input:  The quick brown fox jumps over the lazy dog .\n",
      "  Output: [1, 2, 4, 5, 6, 7, 1, 8, 9]\n",
      "Sequence 2 in x\n",
      "  Input:  By Jove , my quick study of lexicography won a prize .\n",
      "  Output: [10, 11, 12, 2, 13, 14, 15, 16, 3, 17]\n",
      "Sequence 3 in x\n",
      "  Input:  This is a short sentence .\n",
      "  Output: [18, 19, 3, 20, 21]\n"
     ]
    }
   ],
   "source": [
    "def tokenize(x):\n",
    "    \"\"\"\n",
    "    Tokenize x\n",
    "    :param x: List of sentences/strings to be tokenized\n",
    "    :return: Tuple of (tokenized x data, tokenizer used to tokenize x)\n",
    "    \"\"\"\n",
    "    tokenizer  = Tokenizer(num_words=None, char_level=False)\n",
    "    tokenizer.fit_on_texts(x)\n",
    "    sequences = tokenizer.texts_to_sequences(x)\n",
    "    \n",
    "    return sequences, tokenizer\n",
    "\n",
    "tests.test_tokenize(tokenize)\n",
    "\n",
    "# Tokenize Example output\n",
    "text_sentences = [\n",
    "    'The quick brown fox jumps over the lazy dog .',\n",
    "    'By Jove , my quick study of lexicography won a prize .',\n",
    "    'This is a short sentence .']\n",
    "text_tokenized, text_tokenizer = tokenize(text_sentences)\n",
    "print(text_tokenizer.word_index)\n",
    "print()\n",
    "for sample_i, (sent, token_sent) in enumerate(zip(text_sentences, text_tokenized)):\n",
    "    print('Sequence {} in x'.format(sample_i + 1))\n",
    "    print('  Input:  {}'.format(sent))\n",
    "    print('  Output: {}'.format(token_sent))"
   ]
  },
  {
   "cell_type": "markdown",
   "metadata": {},
   "source": [
    "### Padding (IMPLEMENTATION)\n",
    "When batching the sequence of word ids together, each sequence needs to be the same length.  Since sentences are dynamic in length, we can add padding to the end of the sequences to make them the same length.\n",
    "\n",
    "Make sure all the English sequences have the same length and all the French sequences have the same length by adding padding to the **end** of each sequence using Keras's [`pad_sequences`](https://keras.io/preprocessing/sequence/#pad_sequences) function."
   ]
  },
  {
   "cell_type": "code",
   "execution_count": 8,
   "metadata": {},
   "outputs": [
    {
     "name": "stdout",
     "output_type": "stream",
     "text": [
      "Sequence 1 in x\n",
      "  Input:  [1 2 4 5 6 7 1 8 9]\n",
      "  Output: [1 2 4 5 6 7 1 8 9 0]\n",
      "Sequence 2 in x\n",
      "  Input:  [10 11 12  2 13 14 15 16  3 17]\n",
      "  Output: [10 11 12  2 13 14 15 16  3 17]\n",
      "Sequence 3 in x\n",
      "  Input:  [18 19  3 20 21]\n",
      "  Output: [18 19  3 20 21  0  0  0  0  0]\n"
     ]
    }
   ],
   "source": [
    "def pad(x, length=None):\n",
    "    \"\"\"\n",
    "    Pad x\n",
    "    :param x: List of sequences.\n",
    "    :param length: Length to pad the sequence to.  If None, use length of longest sequence in x.\n",
    "    :return: Padded numpy array of sequences\n",
    "    \"\"\"\n",
    "    padded_sequences = pad_sequences(x, maxlen=length, padding=\"post\", truncating=\"post\")\n",
    "    return padded_sequences\n",
    "\n",
    "tests.test_pad(pad)\n",
    "\n",
    "# Pad Tokenized output\n",
    "test_pad = pad(text_tokenized)\n",
    "for sample_i, (token_sent, pad_sent) in enumerate(zip(text_tokenized, test_pad)):\n",
    "    print('Sequence {} in x'.format(sample_i + 1))\n",
    "    print('  Input:  {}'.format(np.array(token_sent)))\n",
    "    print('  Output: {}'.format(pad_sent))"
   ]
  },
  {
   "cell_type": "markdown",
   "metadata": {},
   "source": [
    "### Preprocess Pipeline\n",
    "Your focus for this project is to build neural network architecture, so we won't ask you to create a preprocess pipeline.  Instead, we've provided you with the implementation of the `preprocess` function."
   ]
  },
  {
   "cell_type": "code",
   "execution_count": 9,
   "metadata": {},
   "outputs": [
    {
     "name": "stdout",
     "output_type": "stream",
     "text": [
      "Data Preprocessed\n",
      "Max English sentence length: 15\n",
      "Max French sentence length: 21\n",
      "English vocabulary size: 199\n",
      "French vocabulary size: 344\n"
     ]
    }
   ],
   "source": [
    "def preprocess(x, y):\n",
    "    \"\"\"\n",
    "    Preprocess x and y\n",
    "    :param x: Feature List of sentences\n",
    "    :param y: Label List of sentences\n",
    "    :return: Tuple of (Preprocessed x, Preprocessed y, x tokenizer, y tokenizer)\n",
    "    \"\"\"\n",
    "    preprocess_x, x_tk = tokenize(x)\n",
    "    preprocess_y, y_tk = tokenize(y)\n",
    "\n",
    "    preprocess_x = pad(preprocess_x)\n",
    "    preprocess_y = pad(preprocess_y)\n",
    "\n",
    "    # Keras's sparse_categorical_crossentropy function requires the labels to be in 3 dimensions\n",
    "    preprocess_y = preprocess_y.reshape(*preprocess_y.shape, 1)\n",
    "\n",
    "    return preprocess_x, preprocess_y, x_tk, y_tk\n",
    "\n",
    "preproc_english_sentences, preproc_french_sentences, english_tokenizer, french_tokenizer =\\\n",
    "    preprocess(english_sentences, french_sentences)\n",
    "    \n",
    "max_english_sequence_length = preproc_english_sentences.shape[1]\n",
    "max_french_sequence_length = preproc_french_sentences.shape[1]\n",
    "english_vocab_size = len(english_tokenizer.word_index)\n",
    "french_vocab_size = len(french_tokenizer.word_index)\n",
    "\n",
    "print('Data Preprocessed')\n",
    "print(\"Max English sentence length:\", max_english_sequence_length)\n",
    "print(\"Max French sentence length:\", max_french_sequence_length)\n",
    "print(\"English vocabulary size:\", english_vocab_size)\n",
    "print(\"French vocabulary size:\", french_vocab_size)"
   ]
  },
  {
   "cell_type": "markdown",
   "metadata": {},
   "source": [
    "## Models\n",
    "In this section, you will experiment with various neural network architectures.\n",
    "You will begin by training four relatively simple architectures.\n",
    "- Model 1 is a simple RNN\n",
    "- Model 2 is a RNN with Embedding\n",
    "- Model 3 is a Bidirectional RNN\n",
    "- Model 4 is an optional Encoder-Decoder RNN\n",
    "\n",
    "After experimenting with the four simple architectures, you will construct a deeper architecture that is designed to outperform all four models.\n",
    "### Ids Back to Text\n",
    "The neural network will be translating the input to words ids, which isn't the final form we want.  We want the French translation.  The function `logits_to_text` will bridge the gab between the logits from the neural network to the French translation.  You'll be using this function to better understand the output of the neural network."
   ]
  },
  {
   "cell_type": "code",
   "execution_count": 10,
   "metadata": {},
   "outputs": [
    {
     "name": "stdout",
     "output_type": "stream",
     "text": [
      "`logits_to_text` function loaded.\n"
     ]
    }
   ],
   "source": [
    "def logits_to_text(logits, tokenizer):\n",
    "    \"\"\"\n",
    "    Turn logits from a neural network into text using the tokenizer\n",
    "    :param logits: Logits from a neural network\n",
    "    :param tokenizer: Keras Tokenizer fit on the labels\n",
    "    :return: String that represents the text of the logits\n",
    "    \"\"\"\n",
    "    index_to_words = {id: word for word, id in tokenizer.word_index.items()}\n",
    "    index_to_words[0] = '<PAD>'\n",
    "\n",
    "    return ' '.join([index_to_words[prediction] for prediction in np.argmax(logits, 1)])\n",
    "\n",
    "print('`logits_to_text` function loaded.')"
   ]
  },
  {
   "cell_type": "markdown",
   "metadata": {},
   "source": [
    "### Model 1: RNN (IMPLEMENTATION)\n",
    "![RNN](images/rnn.png)\n",
    "A basic RNN model is a good baseline for sequence data.  In this model, you'll build a RNN that translates English to French."
   ]
  },
  {
   "cell_type": "code",
   "execution_count": 12,
   "metadata": {},
   "outputs": [
    {
     "name": "stdout",
     "output_type": "stream",
     "text": [
      "Train on 110288 samples, validate on 27573 samples\n",
      "Epoch 1/10\n",
      "110288/110288 [==============================] - 6s 59us/step - loss: 2.8948 - acc: 0.4470 - val_loss: nan - val_acc: 0.4869\n",
      "Epoch 2/10\n",
      "110288/110288 [==============================] - 6s 55us/step - loss: 2.1562 - acc: 0.5079 - val_loss: nan - val_acc: 0.5355\n",
      "Epoch 3/10\n",
      "110288/110288 [==============================] - 6s 55us/step - loss: 1.8751 - acc: 0.5481 - val_loss: nan - val_acc: 0.5621\n",
      "Epoch 4/10\n",
      "110288/110288 [==============================] - 6s 55us/step - loss: 1.7379 - acc: 0.5719 - val_loss: nan - val_acc: 0.5753\n",
      "Epoch 5/10\n",
      "110288/110288 [==============================] - 6s 55us/step - loss: 1.6469 - acc: 0.5795 - val_loss: nan - val_acc: 0.5856\n",
      "Epoch 6/10\n",
      "110288/110288 [==============================] - 6s 55us/step - loss: 1.5776 - acc: 0.5901 - val_loss: nan - val_acc: 0.6024\n",
      "Epoch 7/10\n",
      "110288/110288 [==============================] - 6s 55us/step - loss: 1.5227 - acc: 0.6083 - val_loss: nan - val_acc: 0.6163\n",
      "Epoch 8/10\n",
      "110288/110288 [==============================] - 6s 55us/step - loss: 1.4836 - acc: 0.6154 - val_loss: nan - val_acc: 0.6185\n",
      "Epoch 9/10\n",
      "110288/110288 [==============================] - 6s 56us/step - loss: 1.4493 - acc: 0.6227 - val_loss: nan - val_acc: 0.6266\n",
      "Epoch 10/10\n",
      "110288/110288 [==============================] - 6s 56us/step - loss: 1.4235 - acc: 0.6282 - val_loss: nan - val_acc: 0.6266\n",
      "new jersey est parfois parfois en en et il est est en en <PAD> <PAD> <PAD> <PAD> <PAD> <PAD> <PAD> <PAD>\n"
     ]
    }
   ],
   "source": [
    "def simple_model(input_shape, output_sequence_length, english_vocab_size, french_vocab_size):\n",
    "    \"\"\"\n",
    "    Build and train a basic RNN on x and y\n",
    "    :param input_shape: Tuple of input shape\n",
    "    :param output_sequence_length: Length of output sequence\n",
    "    :param english_vocab_size: Number of unique English words in the dataset\n",
    "    :param french_vocab_size: Number of unique French words in the dataset\n",
    "    :return: Keras model built, but not trained\n",
    "    \"\"\"\n",
    "    learning_rate = 0.01\n",
    "    inputs = Input(shape=input_shape[1:])\n",
    "    hidden_layers = GRU(output_sequence_length, return_sequences=True)(inputs)\n",
    "    outputs = TimeDistributed(Dense(french_vocab_size, activation=\"softmax\"))(hidden_layers)\n",
    "    \n",
    "    model = Model(inputs=inputs, outputs=outputs)\n",
    "    model.compile(loss=sparse_categorical_crossentropy,\n",
    "                  optimizer=Adam(learning_rate),\n",
    "                  metrics=['accuracy'])\n",
    "    return model\n",
    "tests.test_simple_model(simple_model)\n",
    "\n",
    "# Reshaping the input to work with a basic RNN\n",
    "tmp_x = pad(preproc_english_sentences, max_french_sequence_length)\n",
    "tmp_x = tmp_x.reshape((-1, preproc_french_sentences.shape[-2], 1))\n",
    "\n",
    "# Train the neural network\n",
    "simple_rnn_model = simple_model(\n",
    "    tmp_x.shape,\n",
    "    max_french_sequence_length,\n",
    "    english_vocab_size,\n",
    "    french_vocab_size)\n",
    "simple_rnn_model.fit(tmp_x, preproc_french_sentences, batch_size=1024, epochs=10, validation_split=0.2)\n",
    "\n",
    "# Print prediction(s)\n",
    "print(logits_to_text(simple_rnn_model.predict(tmp_x[:1])[0], french_tokenizer))"
   ]
  },
  {
   "cell_type": "markdown",
   "metadata": {},
   "source": [
    "### Model 2: Embedding (IMPLEMENTATION)\n",
    "![RNN](images/embedding.png)\n",
    "You've turned the words into ids, but there's a better representation of a word.  This is called word embeddings.  An embedding is a vector representation of the word that is close to similar words in n-dimensional space, where the n represents the size of the embedding vectors.\n",
    "\n",
    "In this model, you'll create a RNN model using embedding."
   ]
  },
  {
   "cell_type": "code",
   "execution_count": 14,
   "metadata": {},
   "outputs": [
    {
     "name": "stdout",
     "output_type": "stream",
     "text": [
      "_________________________________________________________________\n",
      "Layer (type)                 Output Shape              Param #   \n",
      "=================================================================\n",
      "input_8 (InputLayer)         (None, 21)                0         \n",
      "_________________________________________________________________\n",
      "embedding_4 (Embedding)      (None, 21, 345)           69000     \n",
      "_________________________________________________________________\n",
      "gru_8 (GRU)                  (None, 21, 21)            23121     \n",
      "_________________________________________________________________\n",
      "dense_8 (Dense)              (None, 21, 345)           7590      \n",
      "=================================================================\n",
      "Total params: 99,711\n",
      "Trainable params: 99,711\n",
      "Non-trainable params: 0\n",
      "_________________________________________________________________\n",
      "Train on 110288 samples, validate on 27573 samples\n",
      "Epoch 1/10\n",
      "110288/110288 [==============================] - 9s 83us/step - loss: 2.1245 - acc: 0.5916 - val_loss: 1.1225 - val_acc: 0.6902\n",
      "Epoch 2/10\n",
      "110288/110288 [==============================] - 8s 77us/step - loss: 0.9801 - acc: 0.7141 - val_loss: 0.8826 - val_acc: 0.7368\n",
      "Epoch 3/10\n",
      "110288/110288 [==============================] - 9s 77us/step - loss: 0.8139 - acc: 0.7564 - val_loss: 0.7594 - val_acc: 0.7750\n",
      "Epoch 4/10\n",
      "110288/110288 [==============================] - 8s 77us/step - loss: 0.7085 - acc: 0.7948 - val_loss: 0.6623 - val_acc: 0.8089\n",
      "Epoch 5/10\n",
      "110288/110288 [==============================] - 9s 77us/step - loss: 0.6448 - acc: 0.8156 - val_loss: 0.6190 - val_acc: 0.8232\n",
      "Epoch 6/10\n",
      "110288/110288 [==============================] - 9s 77us/step - loss: 0.6041 - acc: 0.8291 - val_loss: 0.5858 - val_acc: 0.8351\n",
      "Epoch 7/10\n",
      "110288/110288 [==============================] - 9s 77us/step - loss: 0.5748 - acc: 0.8377 - val_loss: 0.5621 - val_acc: 0.8413\n",
      "Epoch 8/10\n",
      "110288/110288 [==============================] - 9s 78us/step - loss: 0.5552 - acc: 0.8439 - val_loss: 0.5419 - val_acc: 0.8472\n",
      "Epoch 9/10\n",
      "110288/110288 [==============================] - 8s 77us/step - loss: 0.5370 - acc: 0.8494 - val_loss: 0.5373 - val_acc: 0.8489\n",
      "Epoch 10/10\n",
      "110288/110288 [==============================] - 9s 77us/step - loss: 0.5240 - acc: 0.8533 - val_loss: 0.5134 - val_acc: 0.8569\n",
      "new jersey est parfois calme en l' et et est neigeux en avril <PAD> <PAD> <PAD> <PAD> <PAD> <PAD> <PAD> <PAD>\n"
     ]
    }
   ],
   "source": [
    "def embed_model(input_shape, output_sequence_length, english_vocab_size, french_vocab_size):\n",
    "    \"\"\"\n",
    "    Build and train a RNN model using word embedding on x and y\n",
    "    :param input_shape: Tuple of input shape\n",
    "    :param output_sequence_length: Length of output sequence\n",
    "    :param english_vocab_size: Number of unique English words in the dataset\n",
    "    :param french_vocab_size: Number of unique French words in the dataset\n",
    "    :return: Keras model built, but not trained\n",
    "    \"\"\"\n",
    "    learning_rate = 0.01\n",
    "    \n",
    "    input_layer = Input(shape=input_shape[1:])\n",
    "    embedding_layer = Embedding(input_dim=english_vocab_size, \n",
    "                                output_dim=french_vocab_size)(input_layer)\n",
    "    \n",
    "    hidden_layer = GRU(output_sequence_length, return_sequences=True)(embedding_layer)\n",
    "    output_layer = Dense(french_vocab_size, activation=\"softmax\")(hidden_layer)\n",
    "    \n",
    "    model = Model(inputs=input_layer, outputs=output_layer)\n",
    "    model.compile(loss=sparse_categorical_crossentropy,\n",
    "                 optimizer=Adam(learning_rate),\n",
    "                  metrics=[\"accuracy\"]\n",
    "                 )\n",
    "    return model\n",
    "\n",
    "tests.test_embed_model(embed_model)\n",
    "\n",
    "tmp_x = pad(preproc_english_sentences, preproc_french_sentences.shape[1])\n",
    "tmp_x = tmp_x.reshape((-1, preproc_french_sentences.shape[-2]))\n",
    "\n",
    "\n",
    "embedd_rnn_model = embed_model(tmp_x.shape,\n",
    "                              preproc_french_sentences.shape[1],\n",
    "                              len(english_tokenizer.word_index)+1,\n",
    "                               len(french_tokenizer.word_index)+1\n",
    "                              )\n",
    "embedd_rnn_model.summary()\n",
    "embedd_rnn_model.fit(tmp_x, preproc_french_sentences, batch_size=1024, epochs=10, validation_split=0.2)\n",
    "\n",
    "print(logits_to_text(embedd_rnn_model.predict(tmp_x[:1])[0], french_tokenizer))"
   ]
  },
  {
   "cell_type": "markdown",
   "metadata": {},
   "source": [
    "### Model 3: Bidirectional RNNs (IMPLEMENTATION)\n",
    "![RNN](images/bidirectional.png)\n",
    "One restriction of a RNN is that it can't see the future input, only the past.  This is where bidirectional recurrent neural networks come in.  They are able to see the future data."
   ]
  },
  {
   "cell_type": "code",
   "execution_count": 16,
   "metadata": {},
   "outputs": [
    {
     "name": "stdout",
     "output_type": "stream",
     "text": [
      "_________________________________________________________________\n",
      "Layer (type)                 Output Shape              Param #   \n",
      "=================================================================\n",
      "input_11 (InputLayer)        (None, 21, 1)             0         \n",
      "_________________________________________________________________\n",
      "bidirectional_3 (Bidirection (None, 21, 42)            2898      \n",
      "_________________________________________________________________\n",
      "dense_10 (Dense)             (None, 21, 345)           14835     \n",
      "=================================================================\n",
      "Total params: 17,733\n",
      "Trainable params: 17,733\n",
      "Non-trainable params: 0\n",
      "_________________________________________________________________\n",
      "Train on 110288 samples, validate on 27573 samples\n",
      "Epoch 1/10\n",
      "110288/110288 [==============================] - 11s 98us/step - loss: 2.5117 - acc: 0.5062 - val_loss: 1.7378 - val_acc: 0.5816\n",
      "Epoch 2/10\n",
      "110288/110288 [==============================] - 10s 91us/step - loss: 1.5832 - acc: 0.5960 - val_loss: 1.4749 - val_acc: 0.6197\n",
      "Epoch 3/10\n",
      "110288/110288 [==============================] - 10s 91us/step - loss: 1.4112 - acc: 0.6298 - val_loss: 1.3546 - val_acc: 0.6395\n",
      "Epoch 4/10\n",
      "110288/110288 [==============================] - 10s 90us/step - loss: 1.3173 - acc: 0.6439 - val_loss: 1.2847 - val_acc: 0.6486\n",
      "Epoch 5/10\n",
      "110288/110288 [==============================] - 10s 92us/step - loss: 1.2521 - acc: 0.6517 - val_loss: 1.2238 - val_acc: 0.6547\n",
      "Epoch 6/10\n",
      "110288/110288 [==============================] - 10s 92us/step - loss: 1.2049 - acc: 0.6568 - val_loss: 1.1872 - val_acc: 0.6591\n",
      "Epoch 7/10\n",
      "110288/110288 [==============================] - 10s 92us/step - loss: 1.1772 - acc: 0.6605 - val_loss: 1.1681 - val_acc: 0.6605\n",
      "Epoch 8/10\n",
      "110288/110288 [==============================] - 10s 93us/step - loss: 1.1580 - acc: 0.6628 - val_loss: 1.1470 - val_acc: 0.6644\n",
      "Epoch 9/10\n",
      "110288/110288 [==============================] - 10s 91us/step - loss: 1.1430 - acc: 0.6654 - val_loss: 1.1390 - val_acc: 0.6655\n",
      "Epoch 10/10\n",
      "110288/110288 [==============================] - 10s 91us/step - loss: 1.1308 - acc: 0.6675 - val_loss: 1.1248 - val_acc: 0.6697\n",
      "new jersey est parfois parfois en l' et il est est en en <PAD> <PAD> <PAD> <PAD> <PAD> <PAD> <PAD> <PAD>\n"
     ]
    }
   ],
   "source": [
    "def bd_model(input_shape, output_sequence_length, english_vocab_size, french_vocab_size):\n",
    "    \"\"\"\n",
    "    Build and train a bidirectional RNN model on x and y\n",
    "    :param input_shape: Tuple of input shape\n",
    "    :param output_sequence_length: Length of output sequence\n",
    "    :param english_vocab_size: Number of unique English words in the dataset\n",
    "    :param french_vocab_size: Number of unique French words in the dataset\n",
    "    :return: Keras model built, but not trained\n",
    "    \"\"\"\n",
    "    learning_rate = 0.01\n",
    "    \n",
    "    input_layer = Input(shape=input_shape[1:])\n",
    "    \n",
    "    hidden_layer = Bidirectional(GRU(output_sequence_length, return_sequences=True))(input_layer)\n",
    "    output_layer = Dense(french_vocab_size, activation=\"softmax\")(hidden_layer)\n",
    "    \n",
    "    model = Model(inputs=input_layer, outputs=output_layer)\n",
    "    model.compile(loss=sparse_categorical_crossentropy,\n",
    "                 optimizer=Adam(learning_rate),\n",
    "                  metrics=[\"accuracy\"]\n",
    "                 )\n",
    "    return model\n",
    "tests.test_bd_model(bd_model)\n",
    "\n",
    "tmp_x = pad(preproc_english_sentences, preproc_french_sentences.shape[1])\n",
    "tmp_x = tmp_x.reshape((-1, preproc_french_sentences.shape[-2], 1))\n",
    "\n",
    "bd_rnn_model = bd_model(\n",
    "    tmp_x.shape,\n",
    "    preproc_french_sentences.shape[1],\n",
    "    len(english_tokenizer.word_index) + 1,\n",
    "    len(french_tokenizer.word_index) + 1)\n",
    "\n",
    "bd_rnn_model.summary()\n",
    "bd_rnn_model.fit(tmp_x, preproc_french_sentences, batch_size=1024, epochs=10, validation_split=0.2)\n",
    "\n",
    "print(logits_to_text(bd_rnn_model.predict(tmp_x[:1])[0], french_tokenizer))"
   ]
  },
  {
   "cell_type": "markdown",
   "metadata": {},
   "source": [
    "### Model 4: Encoder-Decoder (OPTIONAL)\n",
    "Time to look at encoder-decoder models.  This model is made up of an encoder and decoder. The encoder creates a matrix representation of the sentence.  The decoder takes this matrix as input and predicts the translation as output.\n",
    "\n",
    "Create an encoder-decoder model in the cell below."
   ]
  },
  {
   "cell_type": "code",
   "execution_count": 20,
   "metadata": {},
   "outputs": [
    {
     "name": "stdout",
     "output_type": "stream",
     "text": [
      "_________________________________________________________________\n",
      "Layer (type)                 Output Shape              Param #   \n",
      "=================================================================\n",
      "input_17 (InputLayer)        (None, 21, 1)             0         \n",
      "_________________________________________________________________\n",
      "gru_21 (GRU)                 (None, 21)                1449      \n",
      "_________________________________________________________________\n",
      "dense_19 (Dense)             (None, 128)               2816      \n",
      "_________________________________________________________________\n",
      "repeat_vector_5 (RepeatVecto (None, 21, 128)           0         \n",
      "_________________________________________________________________\n",
      "gru_22 (GRU)                 (None, 21, 128)           98688     \n",
      "_________________________________________________________________\n",
      "time_distributed_8 (TimeDist (None, 21, 345)           44505     \n",
      "=================================================================\n",
      "Total params: 147,458\n",
      "Trainable params: 147,458\n",
      "Non-trainable params: 0\n",
      "_________________________________________________________________\n",
      "Train on 110288 samples, validate on 27573 samples\n",
      "Epoch 1/10\n",
      "110288/110288 [==============================] - 13s 116us/step - loss: 2.6239 - acc: 0.4682 - val_loss: 2.0395 - val_acc: 0.5261\n",
      "Epoch 2/10\n",
      "110288/110288 [==============================] - 12s 105us/step - loss: 1.8966 - acc: 0.5386 - val_loss: 1.7780 - val_acc: 0.5473\n",
      "Epoch 3/10\n",
      "110288/110288 [==============================] - 12s 106us/step - loss: 1.6527 - acc: 0.5692 - val_loss: 1.5520 - val_acc: 0.5806\n",
      "Epoch 4/10\n",
      "110288/110288 [==============================] - 12s 106us/step - loss: 1.5563 - acc: 0.5822 - val_loss: 1.5152 - val_acc: 0.5862\n",
      "Epoch 5/10\n",
      "110288/110288 [==============================] - 12s 105us/step - loss: 1.4208 - acc: 0.6098 - val_loss: 1.5554 - val_acc: 0.5885\n",
      "Epoch 6/10\n",
      "110288/110288 [==============================] - 11s 104us/step - loss: 1.3947 - acc: 0.6133 - val_loss: 1.3143 - val_acc: 0.6304\n",
      "Epoch 7/10\n",
      "110288/110288 [==============================] - 12s 105us/step - loss: 1.3475 - acc: 0.6243 - val_loss: 1.2888 - val_acc: 0.6323\n",
      "Epoch 8/10\n",
      "110288/110288 [==============================] - 12s 105us/step - loss: 1.2950 - acc: 0.6333 - val_loss: 1.2805 - val_acc: 0.6349\n",
      "Epoch 9/10\n",
      "110288/110288 [==============================] - 12s 105us/step - loss: 1.2608 - acc: 0.6412 - val_loss: 1.2447 - val_acc: 0.6432\n",
      "Epoch 10/10\n",
      "110288/110288 [==============================] - 12s 105us/step - loss: 1.2469 - acc: 0.6425 - val_loss: 1.2464 - val_acc: 0.6392\n",
      "new jersey est parfois agréable en mois mais il est il en en <PAD> <PAD> <PAD> <PAD> <PAD> <PAD> <PAD> <PAD>\n"
     ]
    }
   ],
   "source": [
    "def encdec_model(input_shape, output_sequence_length, english_vocab_size, french_vocab_size):\n",
    "    \"\"\"\n",
    "    Build and train an encoder-decoder model on x and y\n",
    "    :param input_shape: Tuple of input shape\n",
    "    :param output_sequence_length: Length of output sequence\n",
    "    :param english_vocab_size: Number of unique English words in the dataset\n",
    "    :param french_vocab_size: Number of unique French words in the dataset\n",
    "    :return: Keras model built, but not trained\n",
    "    \"\"\"\n",
    "    learning_rate = 0.01\n",
    "    latent_dim = 128\n",
    "    \n",
    "    encoder_inputs = Input(shape=input_shape[1:])\n",
    "    \n",
    "    encoder_gru = GRU(output_sequence_length)(encoder_inputs)\n",
    "    encoder_outputs = Dense(latent_dim, activation=\"relu\")(encoder_gru)\n",
    "    \n",
    "    decoder_inputs = RepeatVector(output_sequence_length)(encoder_outputs)\n",
    "    decoder_gru = GRU(latent_dim, return_sequences=True)(decoder_inputs)\n",
    "    decoder_output = TimeDistributed(Dense(french_vocab_size, activation=\"softmax\"))(decoder_gru)\n",
    "    \n",
    "    model = Model(inputs=encoder_inputs, outputs=decoder_output)\n",
    "    model.compile(loss=sparse_categorical_crossentropy,\n",
    "                 optimizer=Adam(learning_rate),\n",
    "                 metrics=[\"accuracy\"])\n",
    "    \n",
    "    return model\n",
    "tests.test_encdec_model(encdec_model)\n",
    "\n",
    "tmp_x = pad(preproc_english_sentences, preproc_french_sentences.shape[1])\n",
    "tmp_x = tmp_x.reshape((-1, preproc_french_sentences.shape[-2], 1))\n",
    "\n",
    "# Train the neural network\n",
    "encdec_rnn_model = encdec_model(\n",
    "    tmp_x.shape,\n",
    "    preproc_french_sentences.shape[1],\n",
    "    len(english_tokenizer.word_index) + 1,\n",
    "    len(french_tokenizer.word_index) + 1)\n",
    "encdec_rnn_model.summary()\n",
    "encdec_rnn_model.fit(tmp_x, preproc_french_sentences, batch_size=1024, epochs=10, validation_split=0.2)\n",
    "\n",
    "# Print prediction(s)\n",
    "print(logits_to_text(encdec_rnn_model.predict(tmp_x[:1])[0], french_tokenizer))"
   ]
  },
  {
   "cell_type": "markdown",
   "metadata": {},
   "source": [
    "### Model 5: Custom (IMPLEMENTATION)\n",
    "Use everything you learned from the previous models to create a model that incorporates embedding and a bidirectional rnn into one model."
   ]
  },
  {
   "cell_type": "code",
   "execution_count": 21,
   "metadata": {},
   "outputs": [
    {
     "name": "stdout",
     "output_type": "stream",
     "text": [
      "Final Model Loaded\n"
     ]
    }
   ],
   "source": [
    "def model_final(input_shape, output_sequence_length, english_vocab_size, french_vocab_size):\n",
    "    \"\"\"\n",
    "    Build and train a model that incorporates embedding, encoder-decoder, and bidirectional RNN on x and y\n",
    "    :param input_shape: Tuple of input shape\n",
    "    :param output_sequence_length: Length of output sequence\n",
    "    :param english_vocab_size: Number of unique English words in the dataset\n",
    "    :param french_vocab_size: Number of unique French words in the dataset\n",
    "    :return: Keras model built, but not trained\n",
    "    \"\"\"\n",
    "    learning_rate = 0.01\n",
    "    latent_dim = 128\n",
    "    \n",
    "    inputs = Input(shape=input_shape[1:])\n",
    "    embedding_layer = Embedding(input_dim=english_vocab_size, \n",
    "                                output_dim=french_vocab_size, \n",
    "                                mask_zero=False)(inputs)\n",
    "    \n",
    "    bd_layer = Bidirectional(GRU(output_sequence_length))(embedding_layer)\n",
    "    encoding_layer = Dense(latent_dim, activation=\"relu\")(bd_layer)\n",
    "    decoding_layer = RepeatVector(output_sequence_length)(encoding_layer)\n",
    "    output_layer = Bidirectional(GRU(latent_dim, return_sequences=True))(decoding_layer)\n",
    "    outputs = TimeDistributed(Dense(french_vocab_size, activation=\"softmax\"))(output_layer)\n",
    "    \n",
    "    model = Model(inputs=inputs, outputs=outputs)\n",
    "    model.compile(loss=sparse_categorical_crossentropy,\n",
    "                 optimizer=Adam(learning_rate),\n",
    "                 metrics=[\"accuracy\"])\n",
    "    \n",
    "    return model\n",
    "tests.test_model_final(model_final)\n",
    "\n",
    "print('Final Model Loaded')"
   ]
  },
  {
   "cell_type": "markdown",
   "metadata": {},
   "source": [
    "## Prediction (IMPLEMENTATION)"
   ]
  },
  {
   "cell_type": "code",
   "execution_count": 22,
   "metadata": {},
   "outputs": [
    {
     "name": "stdout",
     "output_type": "stream",
     "text": [
      "_________________________________________________________________\n",
      "Layer (type)                 Output Shape              Param #   \n",
      "=================================================================\n",
      "input_19 (InputLayer)        (None, 15)                0         \n",
      "_________________________________________________________________\n",
      "embedding_10 (Embedding)     (None, 15, 345)           69000     \n",
      "_________________________________________________________________\n",
      "bidirectional_6 (Bidirection (None, 42)                46242     \n",
      "_________________________________________________________________\n",
      "dense_23 (Dense)             (None, 128)               5504      \n",
      "_________________________________________________________________\n",
      "repeat_vector_7 (RepeatVecto (None, 21, 128)           0         \n",
      "_________________________________________________________________\n",
      "bidirectional_7 (Bidirection (None, 21, 256)           197376    \n",
      "_________________________________________________________________\n",
      "time_distributed_10 (TimeDis (None, 21, 345)           88665     \n",
      "=================================================================\n",
      "Total params: 406,787\n",
      "Trainable params: 406,787\n",
      "Non-trainable params: 0\n",
      "_________________________________________________________________\n",
      "Train on 110288 samples, validate on 27573 samples\n",
      "Epoch 1/10\n",
      "110288/110288 [==============================] - 22s 201us/step - loss: 2.0946 - acc: 0.5149 - val_loss: 1.5350 - val_acc: 0.6018\n",
      "Epoch 2/10\n",
      "110288/110288 [==============================] - 21s 188us/step - loss: 1.0668 - acc: 0.7034 - val_loss: 0.8584 - val_acc: 0.7489\n",
      "Epoch 3/10\n",
      "110288/110288 [==============================] - 20s 186us/step - loss: 0.7325 - acc: 0.7814 - val_loss: 0.6167 - val_acc: 0.8139\n",
      "Epoch 4/10\n",
      "110288/110288 [==============================] - 21s 186us/step - loss: 0.5316 - acc: 0.8393 - val_loss: 0.4310 - val_acc: 0.8699\n",
      "Epoch 5/10\n",
      "110288/110288 [==============================] - 21s 187us/step - loss: 0.3447 - acc: 0.8999 - val_loss: 0.2857 - val_acc: 0.9204\n",
      "Epoch 6/10\n",
      "110288/110288 [==============================] - 21s 186us/step - loss: 0.3039 - acc: 0.9120 - val_loss: 0.2300 - val_acc: 0.9360\n",
      "Epoch 7/10\n",
      "110288/110288 [==============================] - 21s 186us/step - loss: 0.2029 - acc: 0.9429 - val_loss: 0.1920 - val_acc: 0.9463\n",
      "Epoch 8/10\n",
      "110288/110288 [==============================] - 21s 186us/step - loss: 0.1791 - acc: 0.9487 - val_loss: 0.1993 - val_acc: 0.9427\n",
      "Epoch 9/10\n",
      "110288/110288 [==============================] - 21s 186us/step - loss: 0.1633 - acc: 0.9524 - val_loss: 0.1706 - val_acc: 0.9507\n",
      "Epoch 10/10\n",
      "110288/110288 [==============================] - 20s 185us/step - loss: 0.1466 - acc: 0.9570 - val_loss: 0.1497 - val_acc: 0.9558\n",
      "Sample 1:\n",
      "il a vu un vieux camion jaune <PAD> <PAD> <PAD> <PAD> <PAD> <PAD> <PAD> <PAD> <PAD> <PAD> <PAD> <PAD> <PAD> <PAD>\n",
      "Il a vu un vieux camion jaune\n",
      "Sample 2:\n",
      "new jersey est parfois calme pendant l' automne et il est neigeux en avril <PAD> <PAD> <PAD> <PAD> <PAD> <PAD> <PAD>\n",
      "new jersey est parfois calme pendant l' automne et il est neigeux en avril <PAD> <PAD> <PAD> <PAD> <PAD> <PAD> <PAD>\n"
     ]
    }
   ],
   "source": [
    "def final_predictions(x, y, x_tk, y_tk):\n",
    "    \"\"\"\n",
    "    Gets predictions using the final model\n",
    "    :param x: Preprocessed English data\n",
    "    :param y: Preprocessed French data\n",
    "    :param x_tk: English tokenizer\n",
    "    :param y_tk: French tokenizer\n",
    "    \"\"\"\n",
    "    model = model_final(x.shape, \n",
    "                        y.shape[1], \n",
    "                        len(x_tk.word_index)+1, \n",
    "                        len(y_tk.word_index)+1)\n",
    "\n",
    "    model.summary()\n",
    "    model.fit(x, y, batch_size=1024, epochs=10, validation_split=0.2)\n",
    "    \n",
    "    y_id_to_word = {value: key for key, value in y_tk.word_index.items()}\n",
    "    y_id_to_word[0] = '<PAD>'\n",
    "\n",
    "    sentence = 'he saw a old yellow truck'\n",
    "    sentence = [x_tk.word_index[word] for word in sentence.split()]\n",
    "    sentence = pad_sequences([sentence], maxlen=x.shape[-1], padding='post')\n",
    "    sentences = np.array([sentence[0], x[0]])\n",
    "    predictions = model.predict(sentences, len(sentences))\n",
    "\n",
    "    print('Sample 1:')\n",
    "    print(' '.join([y_id_to_word[np.argmax(x)] for x in predictions[0]]))\n",
    "    print('Il a vu un vieux camion jaune')\n",
    "    print('Sample 2:')\n",
    "    print(' '.join([y_id_to_word[np.argmax(x)] for x in predictions[1]]))\n",
    "    print(' '.join([y_id_to_word[np.max(x)] for x in y[0]]))\n",
    "\n",
    "\n",
    "final_predictions(preproc_english_sentences, preproc_french_sentences, english_tokenizer, french_tokenizer)"
   ]
  },
  {
   "cell_type": "markdown",
   "metadata": {},
   "source": [
    "## Optional Enhancements\n",
    "\n",
    "This project focuses on learning various network architectures for machine translation, but we don't evaluate the models according to best practices by splitting the data into separate test & training sets -- so the model accuracy is overstated. Use the [`sklearn.model_selection.train_test_split()`](http://scikit-learn.org/stable/modules/generated/sklearn.model_selection.train_test_split.html) function to create separate training & test datasets, then retrain each of the models using only the training set and evaluate the prediction accuracy using the hold out test set. Does the \"best\" model change?"
   ]
  }
 ],
 "metadata": {
  "kernelspec": {
   "display_name": "Python 3",
   "language": "python",
   "name": "python3"
  },
  "language_info": {
   "codemirror_mode": {
    "name": "ipython",
    "version": 3
   },
   "file_extension": ".py",
   "mimetype": "text/x-python",
   "name": "python",
   "nbconvert_exporter": "python",
   "pygments_lexer": "ipython3",
   "version": "3.6.8"
  }
 },
 "nbformat": 4,
 "nbformat_minor": 1
}
